{
 "cells": [
  {
   "cell_type": "markdown",
   "metadata": {},
   "source": [
    "# Comparisons with existing ML solutions"
   ]
  },
  {
   "cell_type": "markdown",
   "metadata": {},
   "source": [
    "You must run this notebook only if the notebook [`01-prepare-data.ipynb`](./01-prepare-data.ipynb) has been ran.\n",
    "We rely on the existence of the pre-processed dataset files to run the model."
   ]
  },
  {
   "cell_type": "markdown",
   "metadata": {},
   "source": [
    "## Data preparation\n",
    "\n",
    "First, we load the dataset from the CSV"
   ]
  },
  {
   "cell_type": "code",
   "execution_count": 13,
   "metadata": {},
   "outputs": [
    {
     "name": "stdout",
     "output_type": "stream",
     "text": [
      "   Seating Capacity  Average Meal Price  Weekend Reservations  \\\n",
      "0                38               73.98                    13   \n",
      "1                76               28.11                    48   \n",
      "2                48               48.29                    27   \n",
      "3                34               51.55                     9   \n",
      "4                88               75.98                    37   \n",
      "\n",
      "   Weekday Reservations     Revenue  Marketing&Followers  Location_Downtown  \\\n",
      "0                     4   638945.52            -0.870544              False   \n",
      "1                     6   490207.83             0.712762               True   \n",
      "2                    14   541368.62            -0.122085              False   \n",
      "3                    17   404556.80            -1.591078              False   \n",
      "4                    26  1491046.35             0.314123               True   \n",
      "\n",
      "   Location_Rural  Location_Suburban  Cuisine_American  Cuisine_French  \\\n",
      "0            True              False             False           False   \n",
      "1           False              False             False           False   \n",
      "2            True              False             False           False   \n",
      "3            True              False             False           False   \n",
      "4           False              False             False           False   \n",
      "\n",
      "   Cuisine_Indian  Cuisine_Italian  Cuisine_Japanese  Cuisine_Mexican  \n",
      "0           False            False              True            False  \n",
      "1           False            False             False             True  \n",
      "2           False             True             False            False  \n",
      "3           False             True             False            False  \n",
      "4           False            False              True            False  \n"
     ]
    }
   ],
   "source": [
    "import pandas as pd\n",
    "\n",
    "data = pd.read_csv('data/reduced_dataset.csv')\n",
    "print(data.head())"
   ]
  },
  {
   "cell_type": "markdown",
   "metadata": {},
   "source": [
    "After loading the data, we need to perform some immediate pre-processing. We cannot (in a simple way) load the already scaled values from the dataset, as we'll not be able to descale them back (in a simple way), so let's scale the columns right here."
   ]
  },
  {
   "cell_type": "markdown",
   "metadata": {},
   "source": [
    "We have the boolean and integer values in our dataset, need to convert everything to a consistent data type."
   ]
  },
  {
   "cell_type": "code",
   "execution_count": 14,
   "metadata": {},
   "outputs": [
    {
     "name": "stdout",
     "output_type": "stream",
     "text": [
      "   Seating Capacity  Average Meal Price  Weekend Reservations  \\\n",
      "0              38.0               73.98                  13.0   \n",
      "1              76.0               28.11                  48.0   \n",
      "2              48.0               48.29                  27.0   \n",
      "3              34.0               51.55                   9.0   \n",
      "4              88.0               75.98                  37.0   \n",
      "\n",
      "   Weekday Reservations     Revenue  Marketing&Followers  Location_Downtown  \\\n",
      "0                   4.0   638945.52            -0.870544                0.0   \n",
      "1                   6.0   490207.83             0.712762                1.0   \n",
      "2                  14.0   541368.62            -0.122085                0.0   \n",
      "3                  17.0   404556.80            -1.591078                0.0   \n",
      "4                  26.0  1491046.35             0.314123                1.0   \n",
      "\n",
      "   Location_Rural  Location_Suburban  Cuisine_American  Cuisine_French  \\\n",
      "0             1.0                0.0               0.0             0.0   \n",
      "1             0.0                0.0               0.0             0.0   \n",
      "2             1.0                0.0               0.0             0.0   \n",
      "3             1.0                0.0               0.0             0.0   \n",
      "4             0.0                0.0               0.0             0.0   \n",
      "\n",
      "   Cuisine_Indian  Cuisine_Italian  Cuisine_Japanese  Cuisine_Mexican  \n",
      "0             0.0              0.0               1.0              0.0  \n",
      "1             0.0              0.0               0.0              1.0  \n",
      "2             0.0              1.0               0.0              0.0  \n",
      "3             0.0              1.0               0.0              0.0  \n",
      "4             0.0              0.0               1.0              0.0  \n"
     ]
    }
   ],
   "source": [
    "data = data.astype(float)\n",
    "print(data.head())"
   ]
  },
  {
   "cell_type": "markdown",
   "metadata": {},
   "source": [
    "Now we rescale the inputs, but there exist a catch.\n",
    "To properly calculate the absolute error, we need original, unscaled values of the output.\n",
    "\n",
    "But we split the dataset to training and testing sections at random.\n",
    "\n",
    "These two processes - rescaling and train/test splitting interfere with each other.\n",
    "So, we will use the simplest good enough approach: we rescale everything and will perform all operations on scaled data.\n",
    "\n",
    "Only when there's a need to calculate the errors, we will de-scale both the predicted outputs and test outputs using the same scaler as we used for scaling.\n",
    "This is not exactly the same as using the original untouched data due to rounding errors, but it's good enough to calculate the errors.\n",
    "\n",
    "If we want to actually *use* the model for actual predictions based on user-submitted values, we'll need to keep the scaling parameters together with all the model parameters, because we'll need to scale the user-provided input and then de-scale the predicted output before returning to the user."
   ]
  },
  {
   "cell_type": "code",
   "execution_count": 15,
   "metadata": {},
   "outputs": [],
   "source": [
    "from sklearn.preprocessing import StandardScaler\n",
    "# this will be kept in memory and re-used later to de-normalize the outputs\n",
    "scaler = StandardScaler()\n",
    "\n",
    "# list of columns ONLY for the REDUCED dataset\n",
    "columns_to_normalize = ['Seating Capacity', 'Average Meal Price', 'Weekend Reservations', 'Weekday Reservations']\n",
    "data[columns_to_normalize] = scaler.fit_transform(data[columns_to_normalize])\n",
    "# print(data.head())\n",
    "\n",
    "revenue_scaler = StandardScaler()\n",
    "scaled_revenues = revenue_scaler.fit_transform(data['Revenue'].values.reshape(-1, 1))\n",
    "#scaled_revenues\n",
    "\n",
    "data['Revenue'] = scaled_revenues\n"
   ]
  },
  {
   "cell_type": "markdown",
   "metadata": {},
   "source": [
    "OK now let's split the dataset to training and testing 80:20"
   ]
  },
  {
   "cell_type": "code",
   "execution_count": 16,
   "metadata": {},
   "outputs": [],
   "source": [
    "from sklearn.model_selection import train_test_split\n",
    "\n",
    "train_data, test_data = train_test_split(data, test_size=0.2, random_state=42)\n"
   ]
  },
  {
   "cell_type": "markdown",
   "metadata": {},
   "source": [
    "After splitting the dataset, we need to split them further to inputs and outputs. Here we immediately translate Pandas data frames to Numpy arrays using the `.values` property, as our `NeuralNet` object operates on Numpy arrays."
   ]
  },
  {
   "cell_type": "markdown",
   "metadata": {},
   "source": [
    "## Scikit\n",
    "\n",
    "First, let's use the multi-linear regression from scikit-learn"
   ]
  },
  {
   "cell_type": "code",
   "execution_count": 17,
   "metadata": {},
   "outputs": [],
   "source": [
    "from sklearn.linear_model import LinearRegression\n",
    "from sklearn.metrics import mean_squared_error\n",
    "\n",
    "# Separate the inputs and outputs\n",
    "X_train = train_data.drop(columns=['Revenue']).values\n",
    "y_train = train_data['Revenue'].values\n",
    "X_test = test_data.drop(columns=['Revenue']).values\n",
    "y_test = test_data['Revenue'].values\n",
    "\n",
    "# Create and train the model\n",
    "model = LinearRegression()\n",
    "model.fit(X_train, y_train)\n",
    "\n",
    "# Make predictions\n",
    "y_pred = model.predict(X_test)\n"
   ]
  },
  {
   "cell_type": "markdown",
   "metadata": {},
   "source": [
    "I am using the absolutely barebones model with all parameters being the default."
   ]
  },
  {
   "cell_type": "markdown",
   "metadata": {},
   "source": [
    "Our predictions are scaled, now we need to de-scale them back to get the correct mean absolute error"
   ]
  },
  {
   "cell_type": "code",
   "execution_count": 18,
   "metadata": {},
   "outputs": [],
   "source": [
    "y_test_reshaped = y_test.reshape(-1, 1)\n",
    "y_pred_reshaped = y_pred.reshape(-1, 1)\n",
    "y_pred_descaled = revenue_scaler.inverse_transform(y_pred_reshaped)\n",
    "y_test_descaled = revenue_scaler.inverse_transform(y_test_reshaped)"
   ]
  },
  {
   "cell_type": "code",
   "execution_count": 19,
   "metadata": {},
   "outputs": [
    {
     "name": "stdout",
     "output_type": "stream",
     "text": [
      "Mean Squared Error: 3199127213.975748\n",
      "Mean Absolute Error: 43278.690516777424\n",
      "Mean Absolute Percentage Error: 8.195097213237425%\n"
     ]
    }
   ],
   "source": [
    "from sklearn.metrics import mean_absolute_error\n",
    "import numpy as np\n",
    "\n",
    "# Calculate and print the mean squared error\n",
    "mse = mean_squared_error(y_test_descaled, y_pred_descaled)\n",
    "print(f\"Mean Squared Error: {mse}\")\n",
    "# Calculate and print the mean absolute error\n",
    "mae = mean_absolute_error(y_test_descaled, y_pred_descaled)\n",
    "print(f\"Mean Absolute Error: {mae}\")\n",
    "\n",
    "# Calculate the mean absolute percentage error\n",
    "mape = np.mean(np.abs((y_test_descaled - y_pred_descaled) / y_test_descaled)) * 100\n",
    "print(f\"Mean Absolute Percentage Error: {mape}%\")"
   ]
  },
  {
   "cell_type": "code",
   "execution_count": 20,
   "metadata": {},
   "outputs": [
    {
     "data": {
      "image/png": "[encoded data removed]",
      "text/plain": [
       "<Figure size 640x480 with 1 Axes>"
      ]
     },
     "metadata": {},
     "output_type": "display_data"
    }
   ],
   "source": [
    "import matplotlib.pyplot as plt\n",
    "\n",
    "plt.scatter(y_test_descaled, y_pred_descaled)\n",
    "plt.xlabel('Actual Revenue')\n",
    "plt.ylabel('Predicted Revenue')\n",
    "plt.title('Actual vs Predicted Revenue')\n",
    "plt.show()"
   ]
  },
  {
   "cell_type": "markdown",
   "metadata": {},
   "source": [
    "## Pytorch\n",
    "\n",
    "Now we do the same but using the neural network from Pytorch"
   ]
  },
  {
   "cell_type": "code",
   "execution_count": 21,
   "metadata": {},
   "outputs": [
    {
     "name": "stdout",
     "output_type": "stream",
     "text": [
      "Epoch [10/100], Loss: 0.7838\n",
      "Epoch [20/100], Loss: 0.5782\n",
      "Epoch [30/100], Loss: 0.4135\n",
      "Epoch [40/100], Loss: 0.2875\n",
      "Epoch [50/100], Loss: 0.1975\n",
      "Epoch [60/100], Loss: 0.1369\n",
      "Epoch [70/100], Loss: 0.0969\n",
      "Epoch [80/100], Loss: 0.0703\n",
      "Epoch [90/100], Loss: 0.0524\n",
      "Epoch [100/100], Loss: 0.0401\n"
     ]
    }
   ],
   "source": [
    "import torch\n",
    "\n",
    "import torch.nn as nn\n",
    "import torch.optim as optim\n",
    "\n",
    "# Define the neural network architecture\n",
    "class NeuralNet(nn.Module):\n",
    "    def __init__(self, input_size, hidden_size, output_size):\n",
    "        super(NeuralNet, self).__init__()\n",
    "        self.fc1 = nn.Linear(input_size, hidden_size)\n",
    "        self.relu = nn.ReLU()\n",
    "        self.fc2 = nn.Linear(hidden_size, output_size)\n",
    "    \n",
    "    def forward(self, x):\n",
    "        out = self.fc1(x)\n",
    "        out = self.relu(out)\n",
    "        out = self.fc2(out)\n",
    "        return out\n",
    "\n",
    "# Set the parameters\n",
    "input_size = X_train.shape[1]\n",
    "hidden_size = 64\n",
    "output_size = 1\n",
    "num_epochs = 100\n",
    "learning_rate = 0.001\n",
    "\n",
    "# Convert the data to PyTorch tensors\n",
    "X_train_tensor = torch.tensor(X_train, dtype=torch.float32)\n",
    "y_train_tensor = torch.tensor(y_train, dtype=torch.float32).view(-1, 1)\n",
    "X_test_tensor = torch.tensor(X_test, dtype=torch.float32)\n",
    "\n",
    "# Initialize the model, loss function, and optimizer\n",
    "model = NeuralNet(input_size, hidden_size, output_size)\n",
    "criterion = nn.MSELoss()\n",
    "optimizer = optim.Adam(model.parameters(), lr=learning_rate, weight_decay=1e-6)\n",
    "\n",
    "# Train the model\n",
    "for epoch in range(num_epochs):\n",
    "    model.train()\n",
    "    outputs = model(X_train_tensor)\n",
    "    loss = criterion(outputs, y_train_tensor)\n",
    "    \n",
    "    optimizer.zero_grad()\n",
    "    loss.backward()\n",
    "    optimizer.step()\n",
    "    \n",
    "    if (epoch+1) % 10 == 0:\n",
    "        print(f'Epoch [{epoch+1}/{num_epochs}], Loss: {loss.item():.4f}')\n",
    "\n",
    "# Make predictions\n",
    "model.eval()\n",
    "with torch.no_grad():\n",
    "    y_pred_tensor = model(X_test_tensor)\n",
    "    y_pred = y_pred_tensor.numpy()\n"
   ]
  },
  {
   "cell_type": "markdown",
   "metadata": {},
   "source": [
    "Up to this point it was by-the-book implementation of a Pytorch-based neural network.\n",
    "\n",
    "After getting the predictions for the test inputs, we still need to de-scale data back as we did before with multilinear regression and our homemade NeuralNet.py.\n",
    "\n",
    "No need to de-scale the test data as we did that already for the Scikit solution in this same notebook."
   ]
  },
  {
   "cell_type": "code",
   "execution_count": 22,
   "metadata": {},
   "outputs": [
    {
     "name": "stdout",
     "output_type": "stream",
     "text": [
      "Mean Squared Error: 2846126159.5931525\n",
      "Mean Absolute Error: 39640.88582437276\n",
      "Mean Absolute Percentage Error: 6.4296231837871325%\n"
     ]
    },
    {
     "data": {
      "image/png": "[encoded data removed]",
      "text/plain": [
       "<Figure size 640x480 with 1 Axes>"
      ]
     },
     "metadata": {},
     "output_type": "display_data"
    }
   ],
   "source": [
    "\n",
    "# Descale the predictions\n",
    "y_pred_reshaped = y_pred.reshape(-1, 1)\n",
    "y_pred_descaled = revenue_scaler.inverse_transform(y_pred_reshaped)\n",
    "\n",
    "# Calculate the mean squared error, mean absolute error, and mean absolute percentage error\n",
    "mse = mean_squared_error(y_test_descaled, y_pred_descaled)\n",
    "mae = mean_absolute_error(y_test_descaled, y_pred_descaled)\n",
    "mape = np.mean(np.abs((y_test_descaled - y_pred_descaled) / y_test_descaled)) * 100\n",
    "\n",
    "print(f\"Mean Squared Error: {mse}\")\n",
    "print(f\"Mean Absolute Error: {mae}\")\n",
    "print(f\"Mean Absolute Percentage Error: {mape}%\")\n",
    "\n",
    "# Plot the scatter plot of actual vs predicted revenue\n",
    "plt.scatter(y_test_descaled, y_pred_descaled)\n",
    "plt.xlabel('Actual Revenue')\n",
    "plt.ylabel('Predicted Revenue')\n",
    "plt.title('Actual vs Predicted Revenue')\n",
    "plt.show()"
   ]
  },
  {
   "cell_type": "markdown",
   "metadata": {},
   "source": [
    "## Conclusions\n",
    "\n",
    "We got 8% mean absolute percentage error with multilinear regressor from Scikit and 6% MAPE with the neural network configured with Pytorch.\n",
    "\n",
    "This is overwhelmingly better than the results gotten in the [`02-use-neural-network.ipynb`](./02-use-neural-network.ipynb), which were 23% MAPE at best.\n",
    "\n",
    "More importantly, both these models are actually approximating the data, as could be seen on the scatterplots.\n",
    "We can summarize the performance of the three models as such:\n",
    "\n",
    "| Model | MSE  | MAE  | MAPE  |\n",
    "|-------|-----:|-----:|------:|\n",
    "| NeuralNet #12 (best)                  | 3.589070e+10      | 152946.486867    | 23.973530% |\n",
    "| sklearn.linear_model.LinearRegression | 3199127213.975748 |  43278.690517 | 8.195097% |\n",
    "| torch.nn                              | 2846126159.593153 |  39640.885824 | 6.429623% |"
   ]
  }
 ],
 "metadata": {
  "kernelspec": {
   "display_name": "nec",
   "language": "python",
   "name": "python3"
  },
  "language_info": {
   "codemirror_mode": {
    "name": "ipython",
    "version": 3
   },
   "file_extension": ".py",
   "mimetype": "text/x-python",
   "name": "python",
   "nbconvert_exporter": "python",
   "pygments_lexer": "ipython3",
   "version": "3.12.7"
  }
 },
 "nbformat": 4,
 "nbformat_minor": 2
}
