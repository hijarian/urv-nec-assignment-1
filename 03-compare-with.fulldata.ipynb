{
 "cells": [
  {
   "cell_type": "markdown",
   "metadata": {},
   "source": [
    "# Comparisons with existing ML solutions (full dataset no ignored columns)"
   ]
  },
  {
   "cell_type": "markdown",
   "metadata": {},
   "source": [
    "You must run this notebook only if the notebook [`01-prepare-data.ipynb`](./01-prepare-data.ipynb) has been ran.\n",
    "We rely on the existence of the pre-processed dataset files to run the model."
   ]
  },
  {
   "cell_type": "markdown",
   "metadata": {},
   "source": [
    "## Data preparation\n",
    "\n",
    "First, we load the dataset from the CSV. **This time we will use the FULL dataset, with no columns dropped**"
   ]
  },
  {
   "cell_type": "code",
   "execution_count": 1,
   "metadata": {},
   "outputs": [
    {
     "name": "stdout",
     "output_type": "stream",
     "text": [
      "   Rating  Seating Capacity  Average Meal Price  Chef Experience Years  \\\n",
      "0     4.0                38               73.98                     13   \n",
      "1     3.2                76               28.11                      8   \n",
      "2     4.7                48               48.29                     18   \n",
      "3     4.4                34               51.55                     13   \n",
      "4     4.9                88               75.98                      9   \n",
      "\n",
      "   Number of Reviews  Avg Review Length  Ambience Score  \\\n",
      "0                185         161.924906             1.3   \n",
      "1                533         148.759717             2.6   \n",
      "2                853          56.849189             5.3   \n",
      "3                 82         205.433265             4.6   \n",
      "4                 78         241.681584             8.6   \n",
      "\n",
      "   Service Quality Score  Weekend Reservations  Weekday Reservations  ...  \\\n",
      "0                    7.0                    13                     4  ...   \n",
      "1                    3.4                    48                     6  ...   \n",
      "2                    6.7                    27                    14  ...   \n",
      "3                    2.8                     9                    17  ...   \n",
      "4                    2.1                    37                    26  ...   \n",
      "\n",
      "   Location_Rural  Location_Suburban  Cuisine_American  Cuisine_French  \\\n",
      "0            True              False             False           False   \n",
      "1           False              False             False           False   \n",
      "2            True              False             False           False   \n",
      "3            True              False             False           False   \n",
      "4           False              False             False           False   \n",
      "\n",
      "   Cuisine_Indian  Cuisine_Italian  Cuisine_Japanese  Cuisine_Mexican  \\\n",
      "0           False            False              True            False   \n",
      "1           False            False             False             True   \n",
      "2           False             True             False            False   \n",
      "3           False             True             False            False   \n",
      "4           False            False              True            False   \n",
      "\n",
      "   Parking Availability_No  Parking Availability_Yes  \n",
      "0                    False                      True  \n",
      "1                    False                      True  \n",
      "2                     True                     False  \n",
      "3                    False                      True  \n",
      "4                     True                     False  \n",
      "\n",
      "[5 rows x 23 columns]\n"
     ]
    }
   ],
   "source": [
    "import pandas as pd\n",
    "\n",
    "data = pd.read_csv('data/full_dataset.csv')\n",
    "print(data.head())"
   ]
  },
  {
   "cell_type": "markdown",
   "metadata": {},
   "source": [
    "After loading the data, we need to perform some immediate pre-processing. We cannot (in a simple way) load the already scaled values from the dataset, as we'll not be able to descale them back (in a simple way), so let's scale the columns right here."
   ]
  },
  {
   "cell_type": "markdown",
   "metadata": {},
   "source": [
    "We have the boolean and integer values in our dataset, need to convert everything to a consistent data type."
   ]
  },
  {
   "cell_type": "code",
   "execution_count": 2,
   "metadata": {},
   "outputs": [
    {
     "name": "stdout",
     "output_type": "stream",
     "text": [
      "   Rating  Seating Capacity  Average Meal Price  Chef Experience Years  \\\n",
      "0     4.0              38.0               73.98                   13.0   \n",
      "1     3.2              76.0               28.11                    8.0   \n",
      "2     4.7              48.0               48.29                   18.0   \n",
      "3     4.4              34.0               51.55                   13.0   \n",
      "4     4.9              88.0               75.98                    9.0   \n",
      "\n",
      "   Number of Reviews  Avg Review Length  Ambience Score  \\\n",
      "0              185.0         161.924906             1.3   \n",
      "1              533.0         148.759717             2.6   \n",
      "2              853.0          56.849189             5.3   \n",
      "3               82.0         205.433265             4.6   \n",
      "4               78.0         241.681584             8.6   \n",
      "\n",
      "   Service Quality Score  Weekend Reservations  Weekday Reservations  ...  \\\n",
      "0                    7.0                  13.0                   4.0  ...   \n",
      "1                    3.4                  48.0                   6.0  ...   \n",
      "2                    6.7                  27.0                  14.0  ...   \n",
      "3                    2.8                   9.0                  17.0  ...   \n",
      "4                    2.1                  37.0                  26.0  ...   \n",
      "\n",
      "   Location_Rural  Location_Suburban  Cuisine_American  Cuisine_French  \\\n",
      "0             1.0                0.0               0.0             0.0   \n",
      "1             0.0                0.0               0.0             0.0   \n",
      "2             1.0                0.0               0.0             0.0   \n",
      "3             1.0                0.0               0.0             0.0   \n",
      "4             0.0                0.0               0.0             0.0   \n",
      "\n",
      "   Cuisine_Indian  Cuisine_Italian  Cuisine_Japanese  Cuisine_Mexican  \\\n",
      "0             0.0              0.0               1.0              0.0   \n",
      "1             0.0              0.0               0.0              1.0   \n",
      "2             0.0              1.0               0.0              0.0   \n",
      "3             0.0              1.0               0.0              0.0   \n",
      "4             0.0              0.0               1.0              0.0   \n",
      "\n",
      "   Parking Availability_No  Parking Availability_Yes  \n",
      "0                      0.0                       1.0  \n",
      "1                      0.0                       1.0  \n",
      "2                      1.0                       0.0  \n",
      "3                      0.0                       1.0  \n",
      "4                      1.0                       0.0  \n",
      "\n",
      "[5 rows x 23 columns]\n"
     ]
    }
   ],
   "source": [
    "data = data.astype(float)\n",
    "print(data.head())"
   ]
  },
  {
   "cell_type": "markdown",
   "metadata": {},
   "source": [
    "Now we rescale the inputs, but there exist a catch.\n",
    "To properly calculate the absolute error, we need original, unscaled values of the output.\n",
    "\n",
    "But we split the dataset to training and testing sections at random.\n",
    "\n",
    "These two processes - rescaling and train/test splitting interfere with each other.\n",
    "So, we will use the simplest good enough approach: we rescale everything and will perform all operations on scaled data.\n",
    "\n",
    "Only when there's a need to calculate the errors, we will de-scale both the predicted outputs and test outputs using the same scaler as we used for scaling.\n",
    "This is not exactly the same as using the original untouched data due to rounding errors, but it's good enough to calculate the errors.\n",
    "\n",
    "If we want to actually *use* the model for actual predictions based on user-submitted values, we'll need to keep the scaling parameters together with all the model parameters, because we'll need to scale the user-provided input and then de-scale the predicted output before returning to the user."
   ]
  },
  {
   "cell_type": "code",
   "execution_count": 3,
   "metadata": {},
   "outputs": [],
   "source": [
    "from sklearn.preprocessing import StandardScaler\n",
    "# this will be kept in memory and re-used later to de-normalize the outputs\n",
    "scaler = StandardScaler()\n",
    "\n",
    "# list of columns for the full dataset\n",
    "columns_to_normalize = ['Seating Capacity', 'Average Meal Price', 'Weekend Reservations', 'Weekday Reservations', 'Marketing&Followers', 'Chef Experience Years', 'Number of Reviews', 'Avg Review Length', 'Ambience Score', 'Service Quality Score', 'Rating']\n",
    "data[columns_to_normalize] = scaler.fit_transform(data[columns_to_normalize])\n",
    "\n",
    "revenue_scaler = StandardScaler()\n",
    "scaled_revenues = revenue_scaler.fit_transform(data['Revenue'].values.reshape(-1, 1))\n",
    "\n",
    "data['Revenue'] = scaled_revenues\n"
   ]
  },
  {
   "cell_type": "markdown",
   "metadata": {},
   "source": [
    "OK now let's split the dataset to training and testing 80:20"
   ]
  },
  {
   "cell_type": "code",
   "execution_count": 4,
   "metadata": {},
   "outputs": [],
   "source": [
    "from sklearn.model_selection import train_test_split\n",
    "\n",
    "train_data, test_data = train_test_split(data, test_size=0.2, random_state=42)\n"
   ]
  },
  {
   "cell_type": "markdown",
   "metadata": {},
   "source": [
    "After splitting the dataset, we need to split them further to inputs and outputs. Here we immediately translate Pandas data frames to Numpy arrays using the `.values` property, as our `NeuralNet` object operates on Numpy arrays."
   ]
  },
  {
   "cell_type": "markdown",
   "metadata": {},
   "source": [
    "## Scikit\n",
    "\n",
    "First, let's use the multi-linear regression from scikit-learn"
   ]
  },
  {
   "cell_type": "code",
   "execution_count": 5,
   "metadata": {},
   "outputs": [],
   "source": [
    "from sklearn.linear_model import LinearRegression\n",
    "from sklearn.metrics import mean_squared_error\n",
    "\n",
    "# Separate the inputs and outputs\n",
    "X_train = train_data.drop(columns=['Revenue']).values\n",
    "y_train = train_data['Revenue'].values\n",
    "X_test = test_data.drop(columns=['Revenue']).values\n",
    "y_test = test_data['Revenue'].values\n",
    "\n",
    "# Create and train the model\n",
    "model = LinearRegression()\n",
    "model.fit(X_train, y_train)\n",
    "\n",
    "# Make predictions\n",
    "y_pred = model.predict(X_test)\n"
   ]
  },
  {
   "cell_type": "markdown",
   "metadata": {},
   "source": [
    "I am using the absolutely barebones model with all parameters being the default."
   ]
  },
  {
   "cell_type": "markdown",
   "metadata": {},
   "source": [
    "Our predictions are scaled, now we need to de-scale them back to get the correct mean absolute error"
   ]
  },
  {
   "cell_type": "code",
   "execution_count": 6,
   "metadata": {},
   "outputs": [],
   "source": [
    "y_test_reshaped = y_test.reshape(-1, 1)\n",
    "y_pred_reshaped = y_pred.reshape(-1, 1)\n",
    "y_pred_descaled = revenue_scaler.inverse_transform(y_pred_reshaped)\n",
    "y_test_descaled = revenue_scaler.inverse_transform(y_test_reshaped)"
   ]
  },
  {
   "cell_type": "code",
   "execution_count": 7,
   "metadata": {},
   "outputs": [
    {
     "name": "stdout",
     "output_type": "stream",
     "text": [
      "Mean Squared Error: 3193229601.1717577\n",
      "Mean Absolute Error: 43214.032260596316\n",
      "Mean Absolute Percentage Error: 8.20267706690263%\n"
     ]
    }
   ],
   "source": [
    "from sklearn.metrics import mean_absolute_error\n",
    "import numpy as np\n",
    "\n",
    "# Calculate and print the mean squared error\n",
    "mse = mean_squared_error(y_test_descaled, y_pred_descaled)\n",
    "print(f\"Mean Squared Error: {mse}\")\n",
    "# Calculate and print the mean absolute error\n",
    "mae = mean_absolute_error(y_test_descaled, y_pred_descaled)\n",
    "print(f\"Mean Absolute Error: {mae}\")\n",
    "\n",
    "# Calculate the mean absolute percentage error\n",
    "mape = np.mean(np.abs((y_test_descaled - y_pred_descaled) / y_test_descaled)) * 100\n",
    "print(f\"Mean Absolute Percentage Error: {mape}%\")"
   ]
  },
  {
   "cell_type": "code",
   "execution_count": 8,
   "metadata": {},
   "outputs": [
    {
     "data": {
      "image/png": "[encoded data removed]",
      "text/plain": [
       "<Figure size 640x480 with 1 Axes>"
      ]
     },
     "metadata": {},
     "output_type": "display_data"
    }
   ],
   "source": [
    "import matplotlib.pyplot as plt\n",
    "\n",
    "plt.scatter(y_test_descaled, y_pred_descaled)\n",
    "plt.xlabel('Actual Revenue')\n",
    "plt.ylabel('Predicted Revenue')\n",
    "plt.title('Actual vs Predicted Revenue')\n",
    "plt.show()"
   ]
  },
  {
   "cell_type": "markdown",
   "metadata": {},
   "source": [
    "## Pytorch\n",
    "\n",
    "Now we do the same but using the neural network from Pytorch"
   ]
  },
  {
   "cell_type": "code",
   "execution_count": 9,
   "metadata": {},
   "outputs": [
    {
     "name": "stdout",
     "output_type": "stream",
     "text": [
      "Epoch [10/100], Loss: 0.7299\n",
      "Epoch [20/100], Loss: 0.5389\n",
      "Epoch [30/100], Loss: 0.3827\n",
      "Epoch [40/100], Loss: 0.2630\n",
      "Epoch [50/100], Loss: 0.1761\n",
      "Epoch [60/100], Loss: 0.1152\n",
      "Epoch [70/100], Loss: 0.0775\n",
      "Epoch [80/100], Loss: 0.0572\n",
      "Epoch [90/100], Loss: 0.0453\n",
      "Epoch [100/100], Loss: 0.0368\n"
     ]
    }
   ],
   "source": [
    "import torch\n",
    "\n",
    "import torch.nn as nn\n",
    "import torch.optim as optim\n",
    "\n",
    "# Define the neural network architecture\n",
    "class NeuralNet(nn.Module):\n",
    "    def __init__(self, input_size, hidden_size, output_size):\n",
    "        super(NeuralNet, self).__init__()\n",
    "        self.fc1 = nn.Linear(input_size, hidden_size)\n",
    "        self.relu = nn.ReLU()\n",
    "        self.fc2 = nn.Linear(hidden_size, output_size)\n",
    "    \n",
    "    def forward(self, x):\n",
    "        out = self.fc1(x)\n",
    "        out = self.relu(out)\n",
    "        out = self.fc2(out)\n",
    "        return out\n",
    "\n",
    "# Set the parameters\n",
    "input_size = X_train.shape[1]\n",
    "hidden_size = 64\n",
    "output_size = 1\n",
    "num_epochs = 100\n",
    "learning_rate = 0.001\n",
    "\n",
    "# Convert the data to PyTorch tensors\n",
    "X_train_tensor = torch.tensor(X_train, dtype=torch.float32)\n",
    "y_train_tensor = torch.tensor(y_train, dtype=torch.float32).view(-1, 1)\n",
    "X_test_tensor = torch.tensor(X_test, dtype=torch.float32)\n",
    "\n",
    "# Initialize the model, loss function, and optimizer\n",
    "model = NeuralNet(input_size, hidden_size, output_size)\n",
    "criterion = nn.MSELoss()\n",
    "optimizer = optim.Adam(model.parameters(), lr=learning_rate, weight_decay=1e-6)\n",
    "\n",
    "# Train the model\n",
    "for epoch in range(num_epochs):\n",
    "    model.train()\n",
    "    outputs = model(X_train_tensor)\n",
    "    loss = criterion(outputs, y_train_tensor)\n",
    "    \n",
    "    optimizer.zero_grad()\n",
    "    loss.backward()\n",
    "    optimizer.step()\n",
    "    \n",
    "    if (epoch+1) % 10 == 0:\n",
    "        print(f'Epoch [{epoch+1}/{num_epochs}], Loss: {loss.item():.4f}')\n",
    "\n",
    "# Make predictions\n",
    "model.eval()\n",
    "with torch.no_grad():\n",
    "    y_pred_tensor = model(X_test_tensor)\n",
    "    y_pred = y_pred_tensor.numpy()\n"
   ]
  },
  {
   "cell_type": "markdown",
   "metadata": {},
   "source": [
    "Up to this point it was by-the-book implementation of a Pytorch-based neural network.\n",
    "\n",
    "After getting the predictions for the test inputs, we still need to de-scale data back as we did before with multilinear regression and our homemade NeuralNet.py.\n",
    "\n",
    "No need to de-scale the test data as we did that already for the Scikit solution in this same notebook."
   ]
  },
  {
   "cell_type": "code",
   "execution_count": 10,
   "metadata": {},
   "outputs": [
    {
     "name": "stdout",
     "output_type": "stream",
     "text": [
      "Mean Squared Error: 2675476086.469218\n",
      "Mean Absolute Error: 39083.58120743727\n",
      "Mean Absolute Percentage Error: 6.6348874985546855%\n"
     ]
    },
    {
     "data": {
      "image/png": "[encoded data removed]",
      "text/plain": [
       "<Figure size 640x480 with 1 Axes>"
      ]
     },
     "metadata": {},
     "output_type": "display_data"
    }
   ],
   "source": [
    "\n",
    "# Descale the predictions\n",
    "y_pred_reshaped = y_pred.reshape(-1, 1)\n",
    "y_pred_descaled = revenue_scaler.inverse_transform(y_pred_reshaped)\n",
    "\n",
    "# Calculate the mean squared error, mean absolute error, and mean absolute percentage error\n",
    "mse = mean_squared_error(y_test_descaled, y_pred_descaled)\n",
    "mae = mean_absolute_error(y_test_descaled, y_pred_descaled)\n",
    "mape = np.mean(np.abs((y_test_descaled - y_pred_descaled) / y_test_descaled)) * 100\n",
    "\n",
    "print(f\"Mean Squared Error: {mse}\")\n",
    "print(f\"Mean Absolute Error: {mae}\")\n",
    "print(f\"Mean Absolute Percentage Error: {mape}%\")\n",
    "\n",
    "# Plot the scatter plot of actual vs predicted revenue\n",
    "plt.scatter(y_test_descaled, y_pred_descaled)\n",
    "plt.xlabel('Actual Revenue')\n",
    "plt.ylabel('Predicted Revenue')\n",
    "plt.title('Actual vs Predicted Revenue')\n",
    "plt.show()"
   ]
  },
  {
   "cell_type": "markdown",
   "metadata": {},
   "source": [
    "## Conclusions\n",
    "\n",
    "With the full dataset, with no ignored columns such as \"Parking Availability\" or \"Avg Review Length\", we got not just the same results as with reduced dataset, but we even increased the error slightly.\n",
    "\n",
    "With the reduced dataset, precise MAPE was 8.195% for the multilinear regressor and 6.429% for the pytorch neural network.\n",
    "\n",
    "Here we got 8.202% for the multilinear regressor and 6.634% for pytorch neural network.\n",
    "\n",
    "It seems that our guesses about the importance of these columns were correct in the [`01-prepare-data.ipynb`](./01-prepare-data.ipynb) and removing them was a correct approach.\n",
    "\n",
    "There's no need to compare with the homemade NeuralNet class as it's not approximating the data correctly anyway.\n",
    "\n",
    "\n",
    "| Model | MSE  | MAE  | MAPE  |\n",
    "|-------|-----:|-----:|------:|\n",
    "| sklearn.linear_model.LinearRegression | 3193229601.1717577 |  43214.032260596316 | 8.20267706690263% |\n",
    "| torch.nn                              | 2675476086.469218 |  39083.58120743727 | 6.6348874985546855% |"
   ]
  }
 ],
 "metadata": {
  "kernelspec": {
   "display_name": "nec",
   "language": "python",
   "name": "python3"
  },
  "language_info": {
   "codemirror_mode": {
    "name": "ipython",
    "version": 3
   },
   "file_extension": ".py",
   "mimetype": "text/x-python",
   "name": "python",
   "nbconvert_exporter": "python",
   "pygments_lexer": "ipython3",
   "version": "3.12.7"
  }
 },
 "nbformat": 4,
 "nbformat_minor": 2
}
